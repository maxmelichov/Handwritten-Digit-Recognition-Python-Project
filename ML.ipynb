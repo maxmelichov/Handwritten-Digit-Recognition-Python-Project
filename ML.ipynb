{
 "cells": [
  {
   "cell_type": "code",
   "execution_count": 15,
   "metadata": {},
   "outputs": [],
   "source": [
    "import tensorflow as tf\n",
    "from sklearn.model_selection import train_test_split\n",
    "mnist = tf.keras.datasets.mnist\n",
    "(x_train,y_train),(x_test,y_test) =mnist.load_data()"
   ]
  },
  {
   "cell_type": "code",
   "execution_count": 16,
   "metadata": {},
   "outputs": [],
   "source": [
    "x_train=tf.keras.utils.normalize(x_train,axis=1)\n",
    "x_test=tf.keras.utils.normalize(x_test,axis=1)\n"
   ]
  },
  {
   "cell_type": "code",
   "execution_count": 17,
   "metadata": {},
   "outputs": [],
   "source": [
    "x_train,x_eval,y_train,y_eval= train_test_split(x_train,y_train,test_size=0.2)"
   ]
  },
  {
   "cell_type": "code",
   "execution_count": 18,
   "metadata": {},
   "outputs": [],
   "source": [
    "from pickletools import optimize\n",
    "import numpy as np\n",
    "import pandas as pd\n",
    "from sklearn import metrics\n",
    "\n",
    "def cmodel():\n",
    "    model = tf.keras.models.Sequential([\n",
    "    tf.keras.layers.Flatten(input_shape=[28, 28]),\n",
    "    tf.keras.layers.BatchNormalization(),\n",
    "    tf.keras.layers.Dense(512, activation=\"elu\", kernel_initializer=\"he_normal\"),\n",
    "    tf.keras.layers.BatchNormalization(),\n",
    "    tf.keras.layers.Dense(256, activation=\"elu\", kernel_initializer=\"he_normal\"),\n",
    "    tf.keras.layers.BatchNormalization(),\n",
    "    tf.keras.layers.Dense(10, activation=\"softmax\")\n",
    "    ])\n",
    "    model.compile(optimizer= \"Nadam\",loss=\"sparse_categorical_crossentropy\",metrics=[\"accuracy\"])\n",
    "    return model"
   ]
  },
  {
   "cell_type": "code",
   "execution_count": 19,
   "metadata": {},
   "outputs": [
    {
     "name": "stdout",
     "output_type": "stream",
     "text": [
      "Epoch 1/3\n",
      "1500/1500 [==============================] - 13s 8ms/step - loss: 0.2454 - accuracy: 0.9239\n",
      "Epoch 2/3\n",
      "1500/1500 [==============================] - 12s 8ms/step - loss: 0.1163 - accuracy: 0.9646\n",
      "Epoch 3/3\n",
      "1500/1500 [==============================] - 12s 8ms/step - loss: 0.0842 - accuracy: 0.9735\n",
      "375/375 [==============================] - 1s 2ms/step - loss: 0.1069 - accuracy: 0.9712\n",
      "INFO:tensorflow:Assets written to: best_model1.model\\assets\n",
      "Epoch 1/5\n",
      "1500/1500 [==============================] - 12s 8ms/step - loss: 0.2370 - accuracy: 0.9275\n",
      "Epoch 2/5\n",
      "1500/1500 [==============================] - 13s 8ms/step - loss: 0.1176 - accuracy: 0.9634\n",
      "Epoch 3/5\n",
      "1500/1500 [==============================] - 13s 9ms/step - loss: 0.0829 - accuracy: 0.9746\n",
      "Epoch 4/5\n",
      "1500/1500 [==============================] - 14s 9ms/step - loss: 0.0681 - accuracy: 0.9786\n",
      "Epoch 5/5\n",
      "1500/1500 [==============================] - 12s 8ms/step - loss: 0.0523 - accuracy: 0.9833\n",
      "375/375 [==============================] - 1s 2ms/step - loss: 0.1036 - accuracy: 0.9732\n",
      "INFO:tensorflow:Assets written to: best_model1.model\\assets\n"
     ]
    }
   ],
   "source": [
    "nums= range(128,480,64)\n",
    "val_loss= np.inf\n",
    "val_acc=0\n",
    "num = 0\n",
    "for i in range(3,6,2):\n",
    "    # for val in nums:\n",
    "        model = cmodel()\n",
    "        model.fit(x_train,y_train,epochs=i)\n",
    "        loss,acc = model.evaluate(x_eval,y_eval)\n",
    "        if loss <val_loss and acc >val_acc:\n",
    "            model.save(\"best_model1.model\")\n"
   ]
  },
  {
   "cell_type": "code",
   "execution_count": 20,
   "metadata": {},
   "outputs": [
    {
     "name": "stdout",
     "output_type": "stream",
     "text": [
      "313/313 [==============================] - 1s 2ms/step - loss: 0.1048 - accuracy: 0.9729\n",
      "Best lost: 0.10477688908576965, Best acc: 0.9728999733924866, Best Number neurons: 512\n"
     ]
    }
   ],
   "source": [
    "new_model = tf.keras.models.load_model('best_model1.model')\n",
    "new_loss,new_acc = new_model.evaluate(x_test,y_test)\n",
    "print(f\"Best lost: {new_loss}, Best acc: {new_acc}, Best Number neurons: {512}\")"
   ]
  },
  {
   "cell_type": "code",
   "execution_count": null,
   "metadata": {},
   "outputs": [],
   "source": [
    "from tensorflow.keras.layers import Dense,Dropout,Activation,Flatten,Conv2D,MaxPooling2D\n",
    "\n",
    "def CNNmodel():\n",
    "   model =  tf.keras.models.Sequential()\n",
    "   model.add(Conv2D(32, kernel_size=(3, 3),activation='relu',input_shape=(28, 28, 1)))\n",
    "   model.add(Conv2D(64, (3, 3), activation='relu'))\n",
    "   model.add(MaxPooling2D(pool_size=(2, 2)))\n",
    "   model.add(Dropout(0.25))\n",
    "   model.add(Flatten())\n",
    "   model.add(Dense(256, activation='relu'))\n",
    "   model.add(Dropout(0.5))\n",
    "   model.add(Dense(10, activation='softmax'))\n",
    "   model.compile(loss='sparse_categorical_crossentropy',optimizer='Nadam',metrics=['accuracy'])\n",
    "   return model"
   ]
  },
  {
   "cell_type": "code",
   "execution_count": 12,
   "metadata": {},
   "outputs": [],
   "source": [
    "val_loss= np.inf\n",
    "val_acc=0\n",
    "num = 0\n",
    "for i in range(3,12,2):\n",
    "   # for val in nums:\n",
    "   modelCNN = CNNmodel()\n",
    "   x_train = x_train.reshape(x_train.shape[0], 28, 28, 1)\n",
    "   x_test = x_test.reshape(x_test.shape[0], 28, 28, 1)\n",
    "   modelCNN.fit(x_train,y_train,epochs=i,batch_size=32)\n",
    "   loss,acc = modelCNN.evaluate(x_eval,y_eval)\n",
    "   if loss <val_loss and acc >val_acc:\n",
    "       modelCNN.save(\"best_CNNmodel1.model\")"
   ]
  }
 ],
 "metadata": {
  "kernelspec": {
   "display_name": "Python 3.10.5 64-bit",
   "language": "python",
   "name": "python3"
  },
  "language_info": {
   "codemirror_mode": {
    "name": "ipython",
    "version": 3
   },
   "file_extension": ".py",
   "mimetype": "text/x-python",
   "name": "python",
   "nbconvert_exporter": "python",
   "pygments_lexer": "ipython3",
   "version": "3.10.5"
  },
  "orig_nbformat": 4,
  "vscode": {
   "interpreter": {
    "hash": "633bf2759fc0a7f4cda3481845fe7ea6530e49a0cd0358cdd14e096add1492c4"
   }
  }
 },
 "nbformat": 4,
 "nbformat_minor": 2
}
